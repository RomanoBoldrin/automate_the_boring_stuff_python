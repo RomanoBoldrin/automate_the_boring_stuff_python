{
 "cells": [
  {
   "cell_type": "code",
   "execution_count": 1,
   "id": "97018fc5",
   "metadata": {},
   "outputs": [
    {
     "data": {
      "text/plain": [
       "['cat', 'rat', 'bat', 'dog', 'idk']"
      ]
     },
     "execution_count": 1,
     "metadata": {},
     "output_type": "execute_result"
    }
   ],
   "source": [
    "spam = ['cat', 'rat', 'bat', 'dog', 'idk']\n",
    "spam\n"
   ]
  },
  {
   "cell_type": "code",
   "execution_count": null,
   "id": "2b63d258",
   "metadata": {},
   "outputs": [
    {
     "name": "stdout",
     "output_type": "stream",
     "text": [
      "Enter the name of cat 1(Or enter nothing to stop.): \n",
      "Enter the name of cat 2(Or enter nothing to stop.): \n",
      "Enter the name of cat 3(Or enter nothing to stop.): \n",
      "Enter the name of cat 4(Or enter nothing to stop.): \n",
      "Enter the name of cat 5(Or enter nothing to stop.): The cat names are:\n",
      " Bela\n",
      " Fera\n",
      " Cat\n",
      " Pitoco\n"
     ]
    }
   ],
   "source": [
    "cat_names = []\n",
    "\n",
    "while True:\n",
    "    print(f'Enter the name of cat {str(len(cat_names) + 1 )}(Or enter nothing to stop.): ', end='')\n",
    "\n",
    "    name = input()\n",
    "    if name == '':\n",
    "        break\n",
    "\n",
    "    cat_names += [name]\n",
    "    print()\n",
    "\n",
    "print('\\nThe cat names are:')\n",
    "for name in cat_names:\n",
    "    print(' ' + name)\n"
   ]
  },
  {
   "cell_type": "markdown",
   "id": "7af6cb9e",
   "metadata": {},
   "source": [
    "### Iterate over a list getting its index - DISCLAIMER\n",
    "\n",
    "While the next code works, it is prefarable to use the enumerate function."
   ]
  },
  {
   "cell_type": "code",
   "execution_count": 2,
   "id": "96f5e382",
   "metadata": {},
   "outputs": [
    {
     "name": "stdout",
     "output_type": "stream",
     "text": [
      "Index 0 in supplies is: pens\n",
      "Index 1 in supplies is: staplers\n",
      "Index 2 in supplies is: flamethrowers\n",
      "Index 3 in supplies is: binders\n"
     ]
    }
   ],
   "source": [
    "supplies = ['pens', 'staplers', 'flamethrowers', 'binders']\n",
    "\n",
    "for i in range(len(supplies)):\n",
    "    print(f'Index {str(i)} in supplies is: {supplies[i]}')\n"
   ]
  },
  {
   "cell_type": "markdown",
   "id": "ecf132b2",
   "metadata": {},
   "source": [
    "### The Multiple Assignment Trick\n",
    "\n",
    "Also know as Tuple Unpacking:"
   ]
  },
  {
   "cell_type": "code",
   "execution_count": 7,
   "id": "76db8c7c",
   "metadata": {},
   "outputs": [
    {
     "name": "stdout",
     "output_type": "stream",
     "text": [
      "fat, gray and loud\n"
     ]
    }
   ],
   "source": [
    "cat = ['fat', 'gray', 'loud']\n",
    "\n",
    "size, color, disposition = cat\n",
    "\n",
    "print(size + ', ' + color + ' and ' + disposition)\n"
   ]
  }
 ],
 "metadata": {
  "kernelspec": {
   "display_name": ".venv-automate-the-boring (3.13.0)",
   "language": "python",
   "name": "python3"
  },
  "language_info": {
   "codemirror_mode": {
    "name": "ipython",
    "version": 3
   },
   "file_extension": ".py",
   "mimetype": "text/x-python",
   "name": "python",
   "nbconvert_exporter": "python",
   "pygments_lexer": "ipython3",
   "version": "3.13.0"
  }
 },
 "nbformat": 4,
 "nbformat_minor": 5
}
