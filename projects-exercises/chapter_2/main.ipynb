{
 "cells": [
  {
   "cell_type": "code",
   "execution_count": null,
   "id": "d3d208d4",
   "metadata": {},
   "outputs": [],
   "source": [
    "import random\n",
    "\n",
    "for i in range(5):\n",
    "    print(random.randint(1, 10))\n"
   ]
  },
  {
   "cell_type": "code",
   "execution_count": null,
   "id": "12a6eb88",
   "metadata": {},
   "outputs": [],
   "source": [
    "import random\n",
    "\n",
    "number = random.randint(1, 20)\n",
    "\n",
    "print('I am thinking of a number between 1 and 20')\n",
    "print('Take a guess. You have 3 chances.\\n')\n",
    "\n",
    "i = 1\n",
    "while True:\n",
    "    if i > 3:\n",
    "        print(f'Too bad, you lost! The secret number was {number}')\n",
    "        break\n",
    "    guess = input('> ')\n",
    "    guess = int(guess)\n",
    "    if guess == number:\n",
    "        print(f'Good job! You got it in {i} guesses!\\n')\n",
    "        break\n",
    "    elif guess > 1000:\n",
    "        print(f'{guess} is a bit to high, don\\'t you think?\\nNot gonna count that.')\n",
    "    elif guess != number:\n",
    "        i += 1\n",
    "        if guess < number:\n",
    "            print(f'\"{guess}\" is to low.\\n')\n",
    "            continue\n",
    "        else:\n",
    "            print(f'\"{guess}\" is to high\\n')\n",
    "            continue\n"
   ]
  },
  {
   "cell_type": "code",
   "execution_count": 7,
   "id": "5a11815a",
   "metadata": {},
   "outputs": [
    {
     "name": "stdout",
     "output_type": "stream",
     "text": [
      "I am thinking of a number between 1 and 20\n",
      "Take a guess\n",
      "10 is to low.\n",
      "\n",
      "Take a guess\n",
      "10 is to low.\n",
      "\n",
      "Take a guess\n",
      "10 is to low.\n",
      "\n",
      "Take a guess\n",
      "10 is to low.\n",
      "\n",
      "Take a guess\n",
      "10 is to low.\n",
      "\n",
      "Take a guess\n",
      "100000 is a bit to high, don't you think?\n",
      "Not gonna count that.\n",
      "\n"
     ]
    }
   ],
   "source": [
    "import random\n",
    "\n",
    "number = random.randint(1, 20)\n",
    "\n",
    "print('I am thinking of a number between 1 and 20')\n",
    "\n",
    "for guesses_taken in range(1, 7):\n",
    "    print('Take a guess')\n",
    "    \n",
    "    guess = int(input('> '))\n",
    "\n",
    "    if guess == number:\n",
    "        print(f'Good job! You got it in {guesses_taken} guesses!\\n')\n",
    "        break\n",
    "    elif guess > 1000:\n",
    "        print(f'{guess} is a bit to high, don\\'t you think?\\nNot gonna count that.\\n')\n",
    "        guesses_taken -= 1\n",
    "    elif guess > number:\n",
    "        print(f'{guess} is to high.\\n')\n",
    "    elif guess < number:\n",
    "        print(f'{guess} is to low.\\n')\n"
   ]
  },
  {
   "cell_type": "code",
   "execution_count": 2,
   "id": "7c8c914d",
   "metadata": {},
   "outputs": [
    {
     "name": "stdout",
     "output_type": "stream",
     "text": [
      "1\n",
      "2\n",
      "3\n",
      "4\n",
      "5\n",
      "6\n",
      "7\n",
      "8\n",
      "9\n",
      "10\n"
     ]
    }
   ],
   "source": [
    "for i in range(1, 11):\n",
    "    print(i)"
   ]
  },
  {
   "cell_type": "code",
   "execution_count": 4,
   "id": "6d203879",
   "metadata": {},
   "outputs": [
    {
     "name": "stdout",
     "output_type": "stream",
     "text": [
      "1\n",
      "2\n",
      "3\n",
      "4\n",
      "5\n",
      "6\n",
      "7\n",
      "8\n",
      "9\n",
      "10\n"
     ]
    }
   ],
   "source": [
    "i = 1\n",
    "while i < 11:\n",
    "    print(i)\n",
    "    i += 1"
   ]
  }
 ],
 "metadata": {
  "kernelspec": {
   "display_name": ".venv-automate-the-boring (3.13.0)",
   "language": "python",
   "name": "python3"
  },
  "language_info": {
   "codemirror_mode": {
    "name": "ipython",
    "version": 3
   },
   "file_extension": ".py",
   "mimetype": "text/x-python",
   "name": "python",
   "nbconvert_exporter": "python",
   "pygments_lexer": "ipython3",
   "version": "3.13.0"
  }
 },
 "nbformat": 4,
 "nbformat_minor": 5
}
